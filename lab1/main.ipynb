{
 "cells": [
  {
   "cell_type": "markdown",
   "source": [
    "# Г1 Сверточные сети\n",
    "    выполнил Сергей Харитонов МИВТ-221\n",
    "\n",
    "# Задание\n",
    "Задание творческое. 1) Снимите короткое видео (не больше минуты) с некоторым объектом; в течение ролика должен быть промежуток, когда объект закрыт (полностью или частично) 2) Сделайте раскадровку видео 3) Постройте сверточную сеть (используя Keras), которая отделит кадры с объектом от кадров без объекта.\n"
   ],
   "metadata": {
    "collapsed": false
   }
  },
  {
   "cell_type": "markdown",
   "source": [
    "Разметим кадры из снятого видео"
   ],
   "metadata": {
    "collapsed": false
   }
  },
  {
   "cell_type": "code",
   "execution_count": 9,
   "outputs": [
    {
     "name": "stdout",
     "output_type": "stream",
     "text": [
      "Всего файлов: 781\n",
      "Не размеченных: 780\n",
      "Всего кадров типа 0: 390\n",
      "Всего кадров типа 1: 390\n"
     ]
    }
   ],
   "source": [
    "import shutil\n",
    "import os\n",
    "\n",
    "DIR_PATH = os.getcwd()\n",
    "DATA_PATH = os.path.join(DIR_PATH, 'data')\n",
    "DATA_MARKUP_PATH = os.path.join(DIR_PATH, 'data_markup')\n",
    "# Все кадры видео\n",
    "all_data = [\n",
    "    file\n",
    "    for file in os.listdir(DATA_PATH)\n",
    "]\n",
    "# Не размеченные кадры из видео\n",
    "not_murk_up_file = [\n",
    "    file\n",
    "    for file in all_data\n",
    "    if '_' not in file\n",
    "]\n",
    "\n",
    "print(f'Всего файлов: {len(all_data)}')\n",
    "print(f'Не размеченных: {len(not_murk_up_file)}')\n",
    "\n",
    "# 0 - на кадре нет ежа\n",
    "# 1 - на кадре присутствует еж\n",
    "# В словаре указаны диапазоны кадров подходящих под условие\n",
    "RANGES_TO_FLAGS = {\n",
    "    0: (\n",
    "        (36, 80),\n",
    "        (356, 420),\n",
    "        (501, 780)\n",
    "    ),\n",
    "    1: (\n",
    "        (1, 35),\n",
    "        (81, 355),\n",
    "        (421, 500)\n",
    "    )\n",
    "}\n",
    "\n",
    "\n",
    "# получение названия неразмеченного файла по номеру кадра\n",
    "def get_name(number: int) -> str:\n",
    "    return f'{str(number).zfill(4)}.jpg'\n",
    "\n",
    "\n",
    "# Проход по типам кадров\n",
    "for flag, ranges in RANGES_TO_FLAGS.items():\n",
    "    flag_counter = 0\n",
    "    # Проход по диапазонам кадров принадлежащим к типу\n",
    "    for start, end in ranges:\n",
    "        # Переименование кадров в название с меткой flag\n",
    "        for number in range(start, end + 1):\n",
    "            prev_name, prev_ext = get_name(number).split('.')\n",
    "            new_name = f\"{flag}_{prev_name}.{prev_ext}\"\n",
    "            shutil.copyfile(\n",
    "                os.path.join(DATA_PATH, f'{prev_name}.{prev_ext}'),\n",
    "                os.path.join(DATA_MARKUP_PATH, new_name)\n",
    "            )\n",
    "            flag_counter += 1\n",
    "    print(f\"Всего кадров типа {flag}: {flag_counter}\")"
   ],
   "metadata": {
    "collapsed": false
   }
  },
  {
   "cell_type": "markdown",
   "source": [
    "# Вывод\n",
    "НАПИСАТЬ ВЫВОД\n",
    "\n"
   ],
   "metadata": {
    "collapsed": false
   }
  },
  {
   "cell_type": "code",
   "execution_count": null,
   "outputs": [],
   "source": [],
   "metadata": {
    "collapsed": false
   }
  }
 ],
 "metadata": {
  "kernelspec": {
   "display_name": "Python 3",
   "language": "python",
   "name": "python3"
  },
  "language_info": {
   "codemirror_mode": {
    "name": "ipython",
    "version": 2
   },
   "file_extension": ".py",
   "mimetype": "text/x-python",
   "name": "python",
   "nbconvert_exporter": "python",
   "pygments_lexer": "ipython2",
   "version": "2.7.6"
  }
 },
 "nbformat": 4,
 "nbformat_minor": 0
}
